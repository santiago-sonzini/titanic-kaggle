{
 "cells": [
  {
   "cell_type": "code",
   "execution_count": 88,
   "id": "8c2e4d25-cc8d-4d9c-b541-8a782cd41e0a",
   "metadata": {},
   "outputs": [],
   "source": [
    "import pandas as pd\n",
    "import numpy as np\n",
    "from sklearn.model_selection import train_test_split\n",
    "from sklearn.preprocessing import OneHotEncoder\n",
    "from sklearn.ensemble import GradientBoostingClassifier\n",
    "from sklearn.metrics import mean_absolute_error\n",
    "from sklearn.pipeline import Pipeline\n",
    "\n",
    "\n"
   ]
  },
  {
   "cell_type": "code",
   "execution_count": 7,
   "id": "d022a2d7",
   "metadata": {},
   "outputs": [],
   "source": [
    "raw_trainData = pd.read_csv('./train.csv')\n",
    "testData = pd.read_csv('./test.csv')\n",
    "\n",
    "train_Data = raw_trainData.fillna(0)\n",
    "\n",
    "X = train_Data\n",
    "y = train_Data.Survived\n",
    "\n",
    "X_test_full = testData\n",
    "\n",
    "\n",
    "X_train_full, X_valid_full, y_train, y_valid = train_test_split(X, y, train_size=0.8, test_size=0.2, random_state=0)\n",
    "\n",
    "object_cols = [col for col in X_train_full.columns if X_train_full[col].dtype == \"object\"]\n",
    "low_cardinality_cols = [col for col in object_cols if X_train_full[col].nunique() < 3]\n",
    "\n",
    "\n",
    "\n",
    "X_train_sex = pd.get_dummies(X_train_full[low_cardinality_cols]) \n",
    "X_valid_sex = pd.get_dummies(X_valid_full[low_cardinality_cols])\n",
    "X_test_sex =  pd.get_dummies(X_test_full[low_cardinality_cols])\n",
    "\n",
    "X_train_with_no_categorical = X_train_full.drop(object_cols, axis=1).drop('Survived', axis=1).copy() \n",
    "X_valid_with_no_categorical = X_valid_full.drop(object_cols, axis=1).drop('Survived', axis=1).copy() \n",
    "X_test_with_no_categorical = X_test_full.drop(object_cols, axis=1).copy() \n",
    "\n",
    "\n",
    "X_train = pd.concat([X_train_sex, X_train_with_no_categorical],axis=1).fillna(0)\n",
    "X_valid = pd.concat([X_valid_sex, X_valid_with_no_categorical], axis=1).fillna(0)\n",
    "X_test = pd.concat([X_test_sex, X_test_with_no_categorical],axis=1).round(1).fillna(0)"
   ]
  },
  {
   "cell_type": "code",
   "execution_count": 103,
   "id": "dd5c46b0-fd27-4881-aea3-a2b465633f64",
   "metadata": {},
   "outputs": [],
   "source": [
    "from sklearn.model_selection import cross_val_score\n"
   ]
  },
  {
   "cell_type": "code",
   "execution_count": 76,
   "id": "a626eba8-5d4e-4805-926f-58cc32cf9849",
   "metadata": {
    "tags": []
   },
   "outputs": [],
   "source": [
    "results = {}\n",
    "for i in range(1,11):\n",
    "    results[100*i] = get_score(100*i, 1)"
   ]
  },
  {
   "cell_type": "code",
   "execution_count": 77,
   "id": "0d257714-96dd-423d-b976-c19cd53eec85",
   "metadata": {},
   "outputs": [
    {
     "data": {
      "image/png": "[encoded data removed]",
      "text/plain": [
       "<Figure size 432x288 with 1 Axes>"
      ]
     },
     "metadata": {
      "needs_background": "light"
     },
     "output_type": "display_data"
    }
   ],
   "source": [
    "import matplotlib.pyplot as plt\n",
    "%matplotlib inline\n",
    "\n",
    "plt.plot(list(results.keys()), list(results.values()))\n",
    "plt.show()"
   ]
  },
  {
   "cell_type": "code",
   "execution_count": 106,
   "id": "85bc4dea-4c0b-4d03-a2b9-e5319c2cf1e3",
   "metadata": {},
   "outputs": [
    {
     "data": {
      "text/plain": [
       "GradientBoostingClassifier(learning_rate=0.05, n_estimators=1000,\n",
       "                           n_iter_no_change=5, random_state=1, tol=0.01)"
      ]
     },
     "execution_count": 106,
     "metadata": {},
     "output_type": "execute_result"
    }
   ],
   "source": [
    "model = GradientBoostingClassifier(n_estimators=1000, learning_rate=0.05, n_iter_no_change=5,tol=0.01, random_state=1)\n",
    "\n",
    "model.fit(X_train, y_train)"
   ]
  },
  {
   "cell_type": "code",
   "execution_count": 107,
   "id": "e4b5bae9-1ec1-4196-832d-14aa2d749cfe",
   "metadata": {},
   "outputs": [],
   "source": [
    "preds_test = model.predict(X_test)\n",
    "output = pd.DataFrame({'PassengerId': X_test_full.PassengerId,\n",
    "                       'Survived': preds_test})\n",
    "output.to_csv('submission.csv', index=False)"
   ]
  }
 ],
 "metadata": {
  "kernelspec": {
   "display_name": "Python 3.8.8 64-bit ('base': conda)",
   "language": "python",
   "name": "python388jvsc74a57bd040d3a090f54c6569ab1632332b64b2c03c39dcf918b08424e98f38b5ae0af88f"
  },
  "language_info": {
   "codemirror_mode": {
    "name": "ipython",
    "version": 3
   },
   "file_extension": ".py",
   "mimetype": "text/x-python",
   "name": "python",
   "nbconvert_exporter": "python",
   "pygments_lexer": "ipython3",
   "version": "3.8.8"
  }
 },
 "nbformat": 4,
 "nbformat_minor": 5
}
